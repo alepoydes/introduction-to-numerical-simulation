{
 "cells": [
  {
   "cell_type": "markdown",
   "metadata": {},
   "source": [
    "# Метод прогонки и LU разложение.\n",
    "\n",
    "Попробуем численно решить уравнение Пуассона \n",
    "$$\\Delta u(x,y)=f(x,y),\\quad \\Delta=\\partial_x^2+\\partial_y^2,$$\n",
    "на квадрате $(x,y)\\in[-1,1]^{\\times 2}$ с периодическими граничными условиями \n",
    "$$\\begin{cases}\n",
    "u(-1,y)=u(1,y),\\;\\partial_x u(-1,y)=\\partial_x u(1,y),\\\\\n",
    "u(x,-1)=u(x,1),\\;\\partial_y u(x,-1)=\\partial_y u(x,1).\n",
    "\\end{cases}\n",
    "$$\n",
    "Для тестирования удобно использовать явнорешаемую задачу,\n",
    "для примера рассмотрим правую часть специального вида \n",
    "$$f(x,y)=\\cos \\pi x\\cos \\pi y,$$\n",
    "для которой аналитическое решение легко выписывается:\n",
    "$$u(x,y)=-\\pi^{-2}\\cos\\pi x\\cos \\pi y.$$\n",
    "\n",
    "Выполним дискретизацию на сетке:\n",
    "$$x_k=\\frac{k-N}{N},\\quad y_n=\\frac{n-N}{N},\\quad u_{kn}=u(x_k,y_n),\\quad f_{kn}=f(x_k,y_n),\\quad k,n=0\\ldots 2N-1.$$\n",
    "Произоводные заменим на центральные конечные отношения:\n",
    "$$\\Delta u_{kn}=\\frac{u_{k+1,n}+u_{k-1,n}+u_{k,n+1}+u_{k,n-1}-4u_{kn}}{\\delta^2},$$\n",
    "где шаг решетки обозначен $\\delta=1/N$.\n",
    "В сеточной дискретизации систему можно записать в матричном виде:\n",
    "$$Au=f,\\quad \\sum_{k',n'} A_{k,n;k',n'}u_{k',n'}=f_{k',n'}.$$\n",
    "Здесь пара чисел $(k,n)$ отвечает одной координате вектора.\n",
    "Элементы матрицы $A$ легко выписываются:\n",
    "$$A_{k,n;k',n'}=\\begin{cases}\n",
    "N^2,& |n-n'|+|k-k'|=1,\\\\\n",
    "-4N^2, & n=n', k=k',\\\\\n",
    "0,& \\text{в остальных случаях}.\n",
    "\\end{cases}.$$"
   ]
  },
  {
   "cell_type": "code",
   "execution_count": 1,
   "metadata": {},
   "outputs": [],
   "source": [
    "import numpy as np\n",
    "import matplotlib.pyplot as plt"
   ]
  },
  {
   "cell_type": "code",
   "execution_count": 2,
   "metadata": {},
   "outputs": [
    {
     "data": {
      "image/png": "[encoded data removed]",
      "text/plain": [
       "<Figure size 432x288 with 1 Axes>"
      ]
     },
     "metadata": {
      "needs_background": "light"
     },
     "output_type": "display_data"
    },
    {
     "name": "stdout",
     "output_type": "stream",
     "text": [
      "Число обусловленности 798.9999999999976\n"
     ]
    }
   ],
   "source": [
    "def matrix_A(N):\n",
    "    A = np.zeros( (2*N,)*4 ) # Матрица разрежена, значит начинаем с нулевой матрицы.\n",
    "    k = np.arange(2*N)[:,None] # Все возможные значения индекса для x координаты.\n",
    "    kplus = ((k+1)%(2*N)) # Ячейка правее, чем указанная в массиве k.\n",
    "    n = np.arange(2*N)[None,:] # Все возможные значения индекса для y координаты.\n",
    "    nplus = ((n+1)%(2*N)) # Ячейка выше, чем указанная в массиве n.\n",
    "    A[k,n,k,n] = -4*N**2 # Устанавливаем все диагональные элементы.\n",
    "    A[k,nplus,k,n] = N**2 # Устанавливаем значения для соседей по вертикали.\n",
    "    A[k,n,k,nplus] = N**2 \n",
    "    A[kplus,n,k,n] = N**2 # и по горизонтали.\n",
    "    A[k,n,kplus,n] = N**2 \n",
    "    A[k,n,k,n] += 1 # Избегаем вырождения. СМ. ЗАДАЧУ НИЖЕ.    \n",
    "    return A\n",
    "\n",
    "def flatten_matrix(A):\n",
    "    \"\"\"Преобразует матрицу со сложными индексами в обучную матрицу в числовыми индексами.\"\"\"\n",
    "    N, M, N1, M1 = A.shape\n",
    "    return A.reshape((N*M, N1*M1))\n",
    "\n",
    "# Посмотрим на структуру матрицы.\n",
    "A=matrix_A(10)\n",
    "plt.imshow(flatten_matrix(A)) # Для отрисовки приведем ее к обычному виду - квадратному массиву.\n",
    "plt.show()\n",
    "# Матрица разреженная, причем ее можно представить трехдиагональном виде, однако на диагонали стоят блоки.\n",
    "\n",
    "print(\"Число обусловленности\", np.linalg.cond(flatten_matrix(A)))"
   ]
  },
  {
   "cell_type": "code",
   "execution_count": 3,
   "metadata": {},
   "outputs": [
    {
     "name": "stdout",
     "output_type": "stream",
     "text": [
      "Ошибка решения: 0.04784140140961821\n"
     ]
    },
    {
     "data": {
      "image/png": "[encoded data removed]",
      "text/plain": [
       "<Figure size 432x288 with 1 Axes>"
      ]
     },
     "metadata": {
      "needs_background": "light"
     },
     "output_type": "display_data"
    }
   ],
   "source": [
    "def grid_x(N): \n",
    "    \"\"\"Считает сетку для координаты x.\"\"\"\n",
    "    return np.arange(2*N)/N-1\n",
    "\n",
    "def grid_y(N): \n",
    "    \"\"\"Считает сетку для координаты y.\"\"\"\n",
    "    return np.arange(2*N)/N-1\n",
    "    \n",
    "def vector_f(N):\n",
    "    \"\"\"Тестовая правая часть.\"\"\"\n",
    "    x, y = grid_x(N)[:,None], grid_y(N)[None,:]\n",
    "    f = np.cos(np.pi*x)*np.cos(np.pi*y)\n",
    "    f -= np.mean(f) # Поправляем вектор, так чтобы сумма элементов равнялсь нулю. СМ. ЗАДАЧУ НИЖЕ. \n",
    "    return f\n",
    "    \n",
    "def solve_poisson(f):\n",
    "    \"\"\"Решает уравнение Пуассона с заданной правой частью.\"\"\"\n",
    "    N = f.shape[0]//2\n",
    "    A = matrix_A(N)\n",
    "    u = np.linalg.solve( flatten_matrix(A), f.flatten() )\n",
    "    return u.reshape(f.shape)\n",
    "\n",
    "def explicit_u(N):\n",
    "    return (-1/np.pi**2)*vector_f(N)\n",
    "\n",
    "u = solve_poisson(vector_f(20))\n",
    "# print(\"Приближенное решение:\", u[:5,:5] )\n",
    "# print(\"Точное решение:\", explicit_u(u.shape[0]//2)[:5,:5] )\n",
    "print(\"Ошибка решения:\", np.linalg.norm( (u-explicit_u(u.shape[0]//2)).flatten(), ord=np.inf ))\n",
    "plt.imshow(u.T)\n",
    "plt.show()"
   ]
  },
  {
   "cell_type": "markdown",
   "metadata": {},
   "source": [
    "В данном случае решать систему с помощью функции `numpy.linalg.solve` очень расточительно, так как мы не использовали информацию о структуре матрицы.\n",
    "Большая часть операций при решении системы заключалась в умножении на ноль. Вашим заданием будет реализовать максимально эффективных решатель системы с фиксированной матрицей $A$ для произвольной правой части $f$. \n",
    "\n",
    "# Задания.\n",
    "\n",
    "1. Зачем в функции matrix_A мы добавили константу к диагонали, а в методе vector_f мы нормировали правую часть так, чтобы ее среднее значение равнялось нулю? Можно ли было не делать эти исправления?\n",
    "\n",
    "2. Реализуйте [метод прогонки](https://ru.wikipedia.org/wiki/Метод_прогонки) для рассмотренной системы. Матрица $A$ в нашем примере блочно-трехдиагональная матрица, каждый блок которой также трехдиагональная матрица, используйте это в вашей реализации.\n",
    "\n",
    "3. Чем метод прогонки отличается от [LU разложения](https://ru.wikipedia.org/wiki/LU-разложение)? Как будут выглядеть матрицы $L$ и $U$ для алгоритма прогонки?\n",
    "\n",
    "4. Вычислите определитель оператора $A$, пользуясь блочным LU разложением. \n",
    "\n",
    "5. (Для расширения кругозора.) Как определитель матрицы $A$ связан с [определителем оператора $\\Delta$](https://en.wikipedia.org/wiki/Functional_determinant)?"
   ]
  },
  {
   "cell_type": "code",
   "execution_count": null,
   "metadata": {},
   "outputs": [],
   "source": []
  }
 ],
 "metadata": {
  "kernelspec": {
   "display_name": "Python 3",
   "language": "python",
   "name": "python3"
  },
  "language_info": {
   "codemirror_mode": {
    "name": "ipython",
    "version": 3
   },
   "file_extension": ".py",
   "mimetype": "text/x-python",
   "name": "python",
   "nbconvert_exporter": "python",
   "pygments_lexer": "ipython3",
   "version": "3.9.1"
  }
 },
 "nbformat": 4,
 "nbformat_minor": 4
}
