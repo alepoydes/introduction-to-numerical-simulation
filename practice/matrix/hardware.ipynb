{
 "cells": [
  {
   "cell_type": "code",
   "execution_count": 1,
   "metadata": {},
   "outputs": [],
   "source": [
    "# Уберите комментарий и установите numba, если вы получаете сообщение \"ModuleNotFoundError: No module named 'numba'\".\n",
    "# !pip3 install numba"
   ]
  },
  {
   "cell_type": "code",
   "execution_count": 2,
   "metadata": {},
   "outputs": [],
   "source": [
    "import numpy as np\n",
    "import numba as nb\n",
    "import matplotlib.pyplot as plt"
   ]
  },
  {
   "cell_type": "markdown",
   "metadata": {},
   "source": [
    "# Задания.\n",
    "\n",
    "1. Изучите реализацию многомерных массивов numpy.ndarray и работу с ними в numba.\n",
    "Посмотрите ноутбук [FastPython.](../FastPython.ipynb) \n",
    "\n",
    "2. Реализуйте произведение матриц $A\\in Mat(N\\times K)$, $B\\in Mat(K\\times M)$ согласно определению\n",
    "$$\n",
    "C_{n,m}=\\sum_{k=1}^K A_{n,k}B_{k,m}.\n",
    "$$\n",
    "Сравните быстродействие реализаций на основе numpy.sum, с помощью numba и стандартный метод numpy.dot.\n",
    "Насколько полно используется процессор? \n",
    "Сколько используется памяти?\n",
    "\n",
    "3. Составьте модель использования вычислительных ресурсов функцией на основе numba.jit из предыдущего пункта.\n",
    "Размеры матриц должны быть параметрами модели.\n",
    "Проведите вычислительные эксперименты, чтобы подобрать параметры модели.\n",
    "Экстраполируйте результат на большие матрицы, сделайте экспериментальную проверку.\n",
    "\n",
    "4. В простейшем алгоритме произведения матриц используются три цикла: перебирающие элементы $n$ и $m$  матрицы $C$\n",
    "и суммирующие по $k$. \n",
    "Сравните время перемножения матриц в зависимости от порядка циклов.\n",
    "Оцените объем кэшей разных уровней, проводя эксперименты для матриц разного размера.\n",
    "\n",
    "5. Обновите функцию для перемножения матриц, используя несколько потоков с помощью numba.prange.\n",
    "Обновите модель использования вычислительных ресурсов, принимая во внимание число потоков.\n",
    "Оцените параметры модели из эксперимента.\n",
    "Какое [параллельное ускорение](https://en.wikipedia.org/wiki/Amdahl%27s_law) вы получили?\n",
    "\n",
    "6. Сможете ли вы реализовать реализовать на С более быстрый вариант перемножения матриц, чем на numba?\n",
    "\n",
    "7. Реализуйте быстрое произведение матриц, например, используйте [алгоритм Штрассена](https://en.wikipedia.org/wiki/Strassen_algorithm).\n",
    "Оцените, на матрицах какого размера быстрое произведение матриц быстрее, чем стандартная реализация.\n",
    "Какой из методов дает меньшую погрешность вычислений?\n"
   ]
  },
  {
   "cell_type": "markdown",
   "metadata": {},
   "source": [
    "# Литература\n",
    "\n",
    "1. Ван Лоун Чарльз Ф., Голуб Джин Х. Матричные вычисления. Глава 1.\n",
    "\n",
    "1. [NumPy](https://numpy.org/doc/stable/contents.html)\n",
    "\n",
    "1. [Numba: A High Performance Python Compiler.](https://numba.pydata.org/) [Performance Tips](https://numba.pydata.org/numba-doc/latest/user/performance-tips.html)\n",
    "\n",
    "1. [JAX: Autograd and XLA](https://github.com/google/jax)\n",
    "\n",
    "1. [xeus-cling: a Jupyter kernel for C++](https://github.com/jupyter-xeus/xeus-cling)\n",
    "\n",
    "1. [Minimal C kernel for Jupyter](https://github.com/brendan-rius/jupyter-c-kernel)\n",
    "\n",
    "1. Micha Gorelick, Ian Ozsvald.\n",
    "[High Performance Python](https://www.oreilly.com/library/view/high-performance-python/9781449361747/) \n",
    "\n",
    "1. [Performance Tips of NumPy ndarray](https://shihchinw.github.io/2019/03/performance-tips-of-numpy-ndarray.html)\n",
    "\n",
    "1. [Beating NumPy performance speed by extending Python with C](https://medium.com/analytics-vidhya/beating-numpy-performance-by-extending-python-with-c-c9b644ee2ca8)\n",
    "\n",
    "1. [Principles of Performance](https://llllllllll.github.io/principles-of-performance/index.html)"
   ]
  },
  {
   "cell_type": "code",
   "execution_count": null,
   "metadata": {},
   "outputs": [],
   "source": []
  }
 ],
 "metadata": {
  "kernelspec": {
   "display_name": "Python 3",
   "language": "python",
   "name": "python3"
  },
  "language_info": {
   "codemirror_mode": {
    "name": "ipython",
    "version": 3
   },
   "file_extension": ".py",
   "mimetype": "text/x-python",
   "name": "python",
   "nbconvert_exporter": "python",
   "pygments_lexer": "ipython3",
   "version": "3.9.1"
  }
 },
 "nbformat": 4,
 "nbformat_minor": 4
}
