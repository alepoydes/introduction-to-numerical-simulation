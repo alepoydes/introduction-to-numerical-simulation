{
  "nbformat": 4,
  "nbformat_minor": 5,
  "metadata": {
    "kernelspec": {
      "display_name": "Python 3",
      "language": "python",
      "name": "python3"
    },
    "language_info": {
      "codemirror_mode": {
        "name": "ipython",
        "version": 3
      },
      "file_extension": ".py",
      "mimetype": "text/x-python",
      "name": "python",
      "nbconvert_exporter": "python",
      "pygments_lexer": "ipython3",
      "version": "3.8.5"
    },
    "colab": {
      "name": "mpi.ipynb",
      "provenance": [],
      "collapsed_sections": []
    },
    "accelerator": "GPU"
  },
  "cells": [
    {
      "cell_type": "code",
      "metadata": {
        "id": "timely-representative"
      },
      "source": [
        "# Запусить Jupyter сервер на удаленной машине можно так:\n",
        "# ! jupyter-notebook --ip=0.0.0.0 --no-browser .\n",
        "# Последний аргумент указывает директорию, которая будет доступна через веб-интерфейс.\n",
        "# Хотя магия Jupyter позволяет запустить в консоли содержимое строки\n",
        "# начинающейся с восклицательного знака, нормальная работа команд из данного ноутбука возможно\n",
        "# только в отдельном терминале.\n",
        "# Так как вам нужно будет продолжать работу при запущенном сервере,\n",
        "# нужно либо использовать несколько терминалов, либо запускать процессы в фоновом режиме,\n",
        "# добавив & после команды, либо использовать tmux. "
      ],
      "id": "timely-representative",
      "execution_count": 1,
      "outputs": []
    },
    {
      "cell_type": "markdown",
      "metadata": {
        "id": "pPI2nJAG1VCk"
      },
      "source": [
        "# MPI через ipyparallel"
      ],
      "id": "pPI2nJAG1VCk"
    },
    {
      "cell_type": "code",
      "metadata": {
        "id": "described-investor"
      },
      "source": [
        "# Jupyter поддерживает работу с кластером через пакет ipyparallel\n",
        "# https://ipyparallel.readthedocs.io/en/latest/\n",
        "# Его можно установить через PIP\n",
        "# ! pip3 install ipyparallel\n",
        "# После установки в интерфейсе Jupyter должна появиться вкладка IPython Clusters.\n",
        "# Если этого не произошло, то нужно сделать:\n",
        "# ipcluster nbextension enable"
      ],
      "id": "described-investor",
      "execution_count": 2,
      "outputs": []
    },
    {
      "cell_type": "code",
      "metadata": {
        "id": "nervous-manufacturer"
      },
      "source": [
        "# ipyparallel кластер можно запусить из Jupyter из вкладки IPython Clusters.\n",
        "# Альтернативно можно создать кластер из консоли:\n",
        "# ! ipcluster start --profile=mpi -n 16\n",
        "# По умолчанию процессы для счета создаются на локальной машине.\n",
        "# Здесь мы попросили создать 16 процессов и указали, что будем использовать MPI (см. ниже)."
      ],
      "id": "nervous-manufacturer",
      "execution_count": 3,
      "outputs": []
    },
    {
      "cell_type": "code",
      "metadata": {
        "id": "sharp-principle"
      },
      "source": [
        "# Для работы с MPI потребуется какая-либо реализация интерфейса \n",
        "# ! sudo apt install openmpi-bin\n",
        "# и вспомогательная библиотека\n",
        "# ! pip3 install mpi4py"
      ],
      "id": "sharp-principle",
      "execution_count": 4,
      "outputs": []
    },
    {
      "cell_type": "code",
      "metadata": {
        "id": "owned-owner"
      },
      "source": [
        "# Чтобы получить доступ к узлам кластера, нам потребуется импортировать библиотеку\n",
        "import ipyparallel as ipp"
      ],
      "id": "owned-owner",
      "execution_count": 4,
      "outputs": []
    },
    {
      "cell_type": "code",
      "metadata": {
        "colab": {
          "base_uri": "https://localhost:8080/"
        },
        "id": "naval-stone",
        "outputId": "5d90f378-de97-4650-b0c2-7bc68c7b264e"
      },
      "source": [
        "# Теперь мы можем создать интерфейс для работы с этими процессами.\n",
        "rc = ipp.Client(profile='mpi')\n",
        "# Смотрим, какие процессы были созданы:\n",
        "print(f\"{rc.ids}\")\n",
        "# Создадим \"вид\", для просмотра данных процессов\n",
        "view = rc[:]\n",
        "print(view)\n",
        "# Следующая строка нужна для использования магии Jupyter\n",
        "view.activate()\n",
        "# Теперь мы можем выполнить содержимое ячейки на всех с помощью заклинания %%px. "
      ],
      "id": "naval-stone",
      "execution_count": 6,
      "outputs": [
        {
          "output_type": "stream",
          "text": [
            "[0, 1]\n",
            "<DirectView [0, 1]>\n"
          ],
          "name": "stdout"
        }
      ]
    },
    {
      "cell_type": "markdown",
      "metadata": {
        "id": "DvKKB0_v1fWI"
      },
      "source": [
        "# Используем MPI"
      ],
      "id": "DvKKB0_v1fWI"
    },
    {
      "cell_type": "code",
      "metadata": {
        "colab": {
          "base_uri": "https://localhost:8080/"
        },
        "id": "proved-treasurer",
        "outputId": "663fce0f-a2d7-4b65-dbd3-1adb9917a1b4"
      },
      "source": [
        "%%px\n",
        "from mpi4py import MPI\n",
        "import numpy as np\n",
        "\n",
        "def psum(a):\n",
        "    locsum = np.sum(a)\n",
        "    rcvBuf = np.array(0.0,'d')\n",
        "    MPI.COMM_WORLD.Allreduce([locsum, MPI.DOUBLE],\n",
        "        [rcvBuf, MPI.DOUBLE],\n",
        "        op=MPI.SUM)\n",
        "    return rcvBuf"
      ],
      "id": "proved-treasurer",
      "execution_count": 7,
      "outputs": [
        {
          "output_type": "execute_result",
          "data": {
            "text/plain": [
              "<AsyncResult: execute>"
            ]
          },
          "metadata": {
            "tags": []
          },
          "execution_count": 7
        }
      ]
    },
    {
      "cell_type": "code",
      "metadata": {
        "id": "executed-apartment"
      },
      "source": [
        "%pxresult"
      ],
      "id": "executed-apartment",
      "execution_count": 8,
      "outputs": []
    },
    {
      "cell_type": "code",
      "metadata": {
        "id": "cross-introduction"
      },
      "source": [
        "# Запускаем содержимое файла (идентично предыдущей ячейки) на каждой узле.\n",
        "# view.run('psum.py')"
      ],
      "id": "cross-introduction",
      "execution_count": 9,
      "outputs": []
    },
    {
      "cell_type": "code",
      "metadata": {
        "colab": {
          "base_uri": "https://localhost:8080/"
        },
        "id": "assisted-virtue",
        "outputId": "c9c152e7-e97e-4cf1-8d68-1dd3f870e259"
      },
      "source": [
        "# Импорт numpy нужен, так как ячейкой выше мы сделали это на удаленных машинах.\n",
        "import numpy as np\n",
        "# Рассылаем массив на все узлы кластера равными порциями.\n",
        "view.scatter('a',np.arange(63,dtype='float'))\n",
        "# Выводим содержимое массива `a` на каждой узле.\n",
        "view['a']"
      ],
      "id": "assisted-virtue",
      "execution_count": 10,
      "outputs": [
        {
          "output_type": "execute_result",
          "data": {
            "text/plain": [
              "[array([ 0.,  1.,  2.,  3.,  4.,  5.,  6.,  7.,  8.,  9., 10., 11., 12.,\n",
              "        13., 14., 15., 16., 17., 18., 19., 20., 21., 22., 23., 24., 25.,\n",
              "        26., 27., 28., 29., 30., 31.]),\n",
              " array([32., 33., 34., 35., 36., 37., 38., 39., 40., 41., 42., 43., 44.,\n",
              "        45., 46., 47., 48., 49., 50., 51., 52., 53., 54., 55., 56., 57.,\n",
              "        58., 59., 60., 61., 62.])]"
            ]
          },
          "metadata": {
            "tags": []
          },
          "execution_count": 10
        }
      ]
    },
    {
      "cell_type": "code",
      "metadata": {
        "colab": {
          "base_uri": "https://localhost:8080/"
        },
        "id": "continued-democrat",
        "outputId": "7da67bcb-fc05-4b9b-e17b-c6b147ad3d5a"
      },
      "source": [
        "# Вызываем написанную нами функцию суммирования:\n",
        "%px totalsum = psum(a)"
      ],
      "id": "continued-democrat",
      "execution_count": 11,
      "outputs": [
        {
          "output_type": "execute_result",
          "data": {
            "text/plain": [
              "<AsyncResult: execute>"
            ]
          },
          "metadata": {
            "tags": []
          },
          "execution_count": 11
        }
      ]
    },
    {
      "cell_type": "code",
      "metadata": {
        "id": "decent-netscape"
      },
      "source": [
        "# Смотрим результат\n",
        "%pxresult"
      ],
      "id": "decent-netscape",
      "execution_count": 12,
      "outputs": []
    },
    {
      "cell_type": "code",
      "metadata": {
        "id": "dutch-hybrid"
      },
      "source": [
        "# Аналогично заклинанию выше.\n",
        "# view.execute('totalsum = psum(a)')"
      ],
      "id": "dutch-hybrid",
      "execution_count": 13,
      "outputs": []
    },
    {
      "cell_type": "code",
      "metadata": {
        "colab": {
          "base_uri": "https://localhost:8080/"
        },
        "id": "upset-hebrew",
        "outputId": "76fea95d-c753-4987-ee16-70ddc8714d12"
      },
      "source": [
        "# Выводим результат, получившийся на каждой машине:\n",
        "view['totalsum']"
      ],
      "id": "upset-hebrew",
      "execution_count": 14,
      "outputs": [
        {
          "output_type": "execute_result",
          "data": {
            "text/plain": [
              "[array(496.), array(1457.)]"
            ]
          },
          "metadata": {
            "tags": []
          },
          "execution_count": 14
        }
      ]
    },
    {
      "cell_type": "markdown",
      "metadata": {
        "id": "VqdwOJrM1q5n"
      },
      "source": [
        "# MPI на Google Colab"
      ],
      "id": "VqdwOJrM1q5n"
    },
    {
      "cell_type": "code",
      "metadata": {
        "colab": {
          "base_uri": "https://localhost:8080/"
        },
        "id": "G-ud-Ozf1qHu",
        "outputId": "0f9bd623-db3c-459a-e059-bb1858c8ca17"
      },
      "source": [
        "! pip install mpi4py\n",
        "! pip3 install ipyparallel"
      ],
      "id": "G-ud-Ozf1qHu",
      "execution_count": 2,
      "outputs": [
        {
          "output_type": "stream",
          "text": [
            "Collecting mpi4py\n",
            "\u001b[?25l  Downloading https://files.pythonhosted.org/packages/ec/8f/bbd8de5ba566dd77e408d8136e2bab7fdf2b97ce06cab830ba8b50a2f588/mpi4py-3.0.3.tar.gz (1.4MB)\n",
            "\r\u001b[K     |▎                               | 10kB 20.7MB/s eta 0:00:01\r\u001b[K     |▌                               | 20kB 27.8MB/s eta 0:00:01\r\u001b[K     |▊                               | 30kB 33.0MB/s eta 0:00:01\r\u001b[K     |█                               | 40kB 28.7MB/s eta 0:00:01\r\u001b[K     |█▏                              | 51kB 30.3MB/s eta 0:00:01\r\u001b[K     |█▍                              | 61kB 32.6MB/s eta 0:00:01\r\u001b[K     |█▋                              | 71kB 34.3MB/s eta 0:00:01\r\u001b[K     |█▉                              | 81kB 30.4MB/s eta 0:00:01\r\u001b[K     |██                              | 92kB 32.0MB/s eta 0:00:01\r\u001b[K     |██▎                             | 102kB 33.4MB/s eta 0:00:01\r\u001b[K     |██▌                             | 112kB 33.4MB/s eta 0:00:01\r\u001b[K     |██▊                             | 122kB 33.4MB/s eta 0:00:01\r\u001b[K     |███                             | 133kB 33.4MB/s eta 0:00:01\r\u001b[K     |███▏                            | 143kB 33.4MB/s eta 0:00:01\r\u001b[K     |███▍                            | 153kB 33.4MB/s eta 0:00:01\r\u001b[K     |███▊                            | 163kB 33.4MB/s eta 0:00:01\r\u001b[K     |████                            | 174kB 33.4MB/s eta 0:00:01\r\u001b[K     |████▏                           | 184kB 33.4MB/s eta 0:00:01\r\u001b[K     |████▍                           | 194kB 33.4MB/s eta 0:00:01\r\u001b[K     |████▋                           | 204kB 33.4MB/s eta 0:00:01\r\u001b[K     |████▉                           | 215kB 33.4MB/s eta 0:00:01\r\u001b[K     |█████                           | 225kB 33.4MB/s eta 0:00:01\r\u001b[K     |█████▎                          | 235kB 33.4MB/s eta 0:00:01\r\u001b[K     |█████▌                          | 245kB 33.4MB/s eta 0:00:01\r\u001b[K     |█████▊                          | 256kB 33.4MB/s eta 0:00:01\r\u001b[K     |██████                          | 266kB 33.4MB/s eta 0:00:01\r\u001b[K     |██████▏                         | 276kB 33.4MB/s eta 0:00:01\r\u001b[K     |██████▍                         | 286kB 33.4MB/s eta 0:00:01\r\u001b[K     |██████▋                         | 296kB 33.4MB/s eta 0:00:01\r\u001b[K     |██████▉                         | 307kB 33.4MB/s eta 0:00:01\r\u001b[K     |███████                         | 317kB 33.4MB/s eta 0:00:01\r\u001b[K     |███████▍                        | 327kB 33.4MB/s eta 0:00:01\r\u001b[K     |███████▋                        | 337kB 33.4MB/s eta 0:00:01\r\u001b[K     |███████▉                        | 348kB 33.4MB/s eta 0:00:01\r\u001b[K     |████████                        | 358kB 33.4MB/s eta 0:00:01\r\u001b[K     |████████▎                       | 368kB 33.4MB/s eta 0:00:01\r\u001b[K     |████████▌                       | 378kB 33.4MB/s eta 0:00:01\r\u001b[K     |████████▊                       | 389kB 33.4MB/s eta 0:00:01\r\u001b[K     |█████████                       | 399kB 33.4MB/s eta 0:00:01\r\u001b[K     |█████████▏                      | 409kB 33.4MB/s eta 0:00:01\r\u001b[K     |█████████▍                      | 419kB 33.4MB/s eta 0:00:01\r\u001b[K     |█████████▋                      | 430kB 33.4MB/s eta 0:00:01\r\u001b[K     |█████████▉                      | 440kB 33.4MB/s eta 0:00:01\r\u001b[K     |██████████                      | 450kB 33.4MB/s eta 0:00:01\r\u001b[K     |██████████▎                     | 460kB 33.4MB/s eta 0:00:01\r\u001b[K     |██████████▌                     | 471kB 33.4MB/s eta 0:00:01\r\u001b[K     |██████████▊                     | 481kB 33.4MB/s eta 0:00:01\r\u001b[K     |███████████                     | 491kB 33.4MB/s eta 0:00:01\r\u001b[K     |███████████▎                    | 501kB 33.4MB/s eta 0:00:01\r\u001b[K     |███████████▌                    | 512kB 33.4MB/s eta 0:00:01\r\u001b[K     |███████████▊                    | 522kB 33.4MB/s eta 0:00:01\r\u001b[K     |████████████                    | 532kB 33.4MB/s eta 0:00:01\r\u001b[K     |████████████▏                   | 542kB 33.4MB/s eta 0:00:01\r\u001b[K     |████████████▍                   | 552kB 33.4MB/s eta 0:00:01\r\u001b[K     |████████████▋                   | 563kB 33.4MB/s eta 0:00:01\r\u001b[K     |████████████▉                   | 573kB 33.4MB/s eta 0:00:01\r\u001b[K     |█████████████                   | 583kB 33.4MB/s eta 0:00:01\r\u001b[K     |█████████████▎                  | 593kB 33.4MB/s eta 0:00:01\r\u001b[K     |█████████████▌                  | 604kB 33.4MB/s eta 0:00:01\r\u001b[K     |█████████████▊                  | 614kB 33.4MB/s eta 0:00:01\r\u001b[K     |██████████████                  | 624kB 33.4MB/s eta 0:00:01\r\u001b[K     |██████████████▏                 | 634kB 33.4MB/s eta 0:00:01\r\u001b[K     |██████████████▍                 | 645kB 33.4MB/s eta 0:00:01\r\u001b[K     |██████████████▊                 | 655kB 33.4MB/s eta 0:00:01\r\u001b[K     |███████████████                 | 665kB 33.4MB/s eta 0:00:01\r\u001b[K     |███████████████▏                | 675kB 33.4MB/s eta 0:00:01\r\u001b[K     |███████████████▍                | 686kB 33.4MB/s eta 0:00:01\r\u001b[K     |███████████████▋                | 696kB 33.4MB/s eta 0:00:01\r\u001b[K     |███████████████▉                | 706kB 33.4MB/s eta 0:00:01\r\u001b[K     |████████████████                | 716kB 33.4MB/s eta 0:00:01\r\u001b[K     |████████████████▎               | 727kB 33.4MB/s eta 0:00:01\r\u001b[K     |████████████████▌               | 737kB 33.4MB/s eta 0:00:01\r\u001b[K     |████████████████▊               | 747kB 33.4MB/s eta 0:00:01\r\u001b[K     |█████████████████               | 757kB 33.4MB/s eta 0:00:01\r\u001b[K     |█████████████████▏              | 768kB 33.4MB/s eta 0:00:01\r\u001b[K     |█████████████████▍              | 778kB 33.4MB/s eta 0:00:01\r\u001b[K     |█████████████████▋              | 788kB 33.4MB/s eta 0:00:01\r\u001b[K     |█████████████████▉              | 798kB 33.4MB/s eta 0:00:01\r\u001b[K     |██████████████████              | 808kB 33.4MB/s eta 0:00:01\r\u001b[K     |██████████████████▍             | 819kB 33.4MB/s eta 0:00:01\r\u001b[K     |██████████████████▋             | 829kB 33.4MB/s eta 0:00:01\r\u001b[K     |██████████████████▉             | 839kB 33.4MB/s eta 0:00:01\r\u001b[K     |███████████████████             | 849kB 33.4MB/s eta 0:00:01\r\u001b[K     |███████████████████▎            | 860kB 33.4MB/s eta 0:00:01\r\u001b[K     |███████████████████▌            | 870kB 33.4MB/s eta 0:00:01\r\u001b[K     |███████████████████▊            | 880kB 33.4MB/s eta 0:00:01\r\u001b[K     |████████████████████            | 890kB 33.4MB/s eta 0:00:01\r\u001b[K     |████████████████████▏           | 901kB 33.4MB/s eta 0:00:01\r\u001b[K     |████████████████████▍           | 911kB 33.4MB/s eta 0:00:01\r\u001b[K     |████████████████████▋           | 921kB 33.4MB/s eta 0:00:01\r\u001b[K     |████████████████████▉           | 931kB 33.4MB/s eta 0:00:01\r\u001b[K     |█████████████████████           | 942kB 33.4MB/s eta 0:00:01\r\u001b[K     |█████████████████████▎          | 952kB 33.4MB/s eta 0:00:01\r\u001b[K     |█████████████████████▌          | 962kB 33.4MB/s eta 0:00:01\r\u001b[K     |█████████████████████▉          | 972kB 33.4MB/s eta 0:00:01\r\u001b[K     |██████████████████████          | 983kB 33.4MB/s eta 0:00:01\r\u001b[K     |██████████████████████▎         | 993kB 33.4MB/s eta 0:00:01\r\u001b[K     |██████████████████████▌         | 1.0MB 33.4MB/s eta 0:00:01\r\u001b[K     |██████████████████████▊         | 1.0MB 33.4MB/s eta 0:00:01\r\u001b[K     |███████████████████████         | 1.0MB 33.4MB/s eta 0:00:01\r\u001b[K     |███████████████████████▏        | 1.0MB 33.4MB/s eta 0:00:01\r\u001b[K     |███████████████████████▍        | 1.0MB 33.4MB/s eta 0:00:01\r\u001b[K     |███████████████████████▋        | 1.1MB 33.4MB/s eta 0:00:01\r\u001b[K     |███████████████████████▉        | 1.1MB 33.4MB/s eta 0:00:01\r\u001b[K     |████████████████████████        | 1.1MB 33.4MB/s eta 0:00:01\r\u001b[K     |████████████████████████▎       | 1.1MB 33.4MB/s eta 0:00:01\r\u001b[K     |████████████████████████▌       | 1.1MB 33.4MB/s eta 0:00:01\r\u001b[K     |████████████████████████▊       | 1.1MB 33.4MB/s eta 0:00:01\r\u001b[K     |█████████████████████████       | 1.1MB 33.4MB/s eta 0:00:01\r\u001b[K     |█████████████████████████▏      | 1.1MB 33.4MB/s eta 0:00:01\r\u001b[K     |█████████████████████████▌      | 1.1MB 33.4MB/s eta 0:00:01\r\u001b[K     |█████████████████████████▊      | 1.1MB 33.4MB/s eta 0:00:01\r\u001b[K     |██████████████████████████      | 1.2MB 33.4MB/s eta 0:00:01\r\u001b[K     |██████████████████████████▏     | 1.2MB 33.4MB/s eta 0:00:01\r\u001b[K     |██████████████████████████▍     | 1.2MB 33.4MB/s eta 0:00:01\r\u001b[K     |██████████████████████████▋     | 1.2MB 33.4MB/s eta 0:00:01\r\u001b[K     |██████████████████████████▉     | 1.2MB 33.4MB/s eta 0:00:01\r\u001b[K     |███████████████████████████     | 1.2MB 33.4MB/s eta 0:00:01\r\u001b[K     |███████████████████████████▎    | 1.2MB 33.4MB/s eta 0:00:01\r\u001b[K     |███████████████████████████▌    | 1.2MB 33.4MB/s eta 0:00:01\r\u001b[K     |███████████████████████████▊    | 1.2MB 33.4MB/s eta 0:00:01\r\u001b[K     |████████████████████████████    | 1.2MB 33.4MB/s eta 0:00:01\r\u001b[K     |████████████████████████████▏   | 1.3MB 33.4MB/s eta 0:00:01\r\u001b[K     |████████████████████████████▍   | 1.3MB 33.4MB/s eta 0:00:01\r\u001b[K     |████████████████████████████▋   | 1.3MB 33.4MB/s eta 0:00:01\r\u001b[K     |████████████████████████████▉   | 1.3MB 33.4MB/s eta 0:00:01\r\u001b[K     |█████████████████████████████▏  | 1.3MB 33.4MB/s eta 0:00:01\r\u001b[K     |█████████████████████████████▍  | 1.3MB 33.4MB/s eta 0:00:01\r\u001b[K     |█████████████████████████████▋  | 1.3MB 33.4MB/s eta 0:00:01\r\u001b[K     |█████████████████████████████▉  | 1.3MB 33.4MB/s eta 0:00:01\r\u001b[K     |██████████████████████████████  | 1.3MB 33.4MB/s eta 0:00:01\r\u001b[K     |██████████████████████████████▎ | 1.4MB 33.4MB/s eta 0:00:01\r\u001b[K     |██████████████████████████████▌ | 1.4MB 33.4MB/s eta 0:00:01\r\u001b[K     |██████████████████████████████▊ | 1.4MB 33.4MB/s eta 0:00:01\r\u001b[K     |███████████████████████████████ | 1.4MB 33.4MB/s eta 0:00:01\r\u001b[K     |███████████████████████████████▏| 1.4MB 33.4MB/s eta 0:00:01\r\u001b[K     |███████████████████████████████▍| 1.4MB 33.4MB/s eta 0:00:01\r\u001b[K     |███████████████████████████████▋| 1.4MB 33.4MB/s eta 0:00:01\r\u001b[K     |███████████████████████████████▉| 1.4MB 33.4MB/s eta 0:00:01\r\u001b[K     |████████████████████████████████| 1.4MB 33.4MB/s \n",
            "\u001b[?25hBuilding wheels for collected packages: mpi4py\n",
            "  Building wheel for mpi4py (setup.py) ... \u001b[?25l\u001b[?25hdone\n",
            "  Created wheel for mpi4py: filename=mpi4py-3.0.3-cp37-cp37m-linux_x86_64.whl size=2065204 sha256=eb738dfa8f194fff3e09da102caf2af7325b5f9e24f0ad2195d862acd880015f\n",
            "  Stored in directory: /root/.cache/pip/wheels/18/e0/86/2b713dd512199096012ceca61429e12b960888de59818871d6\n",
            "Successfully built mpi4py\n",
            "Installing collected packages: mpi4py\n",
            "Successfully installed mpi4py-3.0.3\n",
            "Collecting ipyparallel\n",
            "\u001b[?25l  Downloading https://files.pythonhosted.org/packages/3b/e9/03a9189eb39276396309faf28bf833b4328befe4513bbf375b811a36a076/ipyparallel-6.3.0-py3-none-any.whl (199kB)\n",
            "\u001b[K     |████████████████████████████████| 204kB 32.9MB/s \n",
            "\u001b[?25hRequirement already satisfied: ipykernel>=4.4 in /usr/local/lib/python3.7/dist-packages (from ipyparallel) (4.10.1)\n",
            "Requirement already satisfied: python-dateutil>=2.1 in /usr/local/lib/python3.7/dist-packages (from ipyparallel) (2.8.1)\n",
            "Requirement already satisfied: ipython-genutils in /usr/local/lib/python3.7/dist-packages (from ipyparallel) (0.2.0)\n",
            "Requirement already satisfied: decorator in /usr/local/lib/python3.7/dist-packages (from ipyparallel) (4.4.2)\n",
            "Requirement already satisfied: jupyter-client in /usr/local/lib/python3.7/dist-packages (from ipyparallel) (5.3.5)\n",
            "Requirement already satisfied: tornado>=4 in /usr/local/lib/python3.7/dist-packages (from ipyparallel) (5.1.1)\n",
            "Requirement already satisfied: ipython>=4 in /usr/local/lib/python3.7/dist-packages (from ipyparallel) (5.5.0)\n",
            "Requirement already satisfied: pyzmq>=13 in /usr/local/lib/python3.7/dist-packages (from ipyparallel) (22.0.3)\n",
            "Requirement already satisfied: traitlets>=4.3 in /usr/local/lib/python3.7/dist-packages (from ipyparallel) (5.0.5)\n",
            "Requirement already satisfied: six>=1.5 in /usr/local/lib/python3.7/dist-packages (from python-dateutil>=2.1->ipyparallel) (1.15.0)\n",
            "Requirement already satisfied: jupyter-core>=4.6.0 in /usr/local/lib/python3.7/dist-packages (from jupyter-client->ipyparallel) (4.7.1)\n",
            "Requirement already satisfied: pexpect; sys_platform != \"win32\" in /usr/local/lib/python3.7/dist-packages (from ipython>=4->ipyparallel) (4.8.0)\n",
            "Requirement already satisfied: simplegeneric>0.8 in /usr/local/lib/python3.7/dist-packages (from ipython>=4->ipyparallel) (0.8.1)\n",
            "Requirement already satisfied: pygments in /usr/local/lib/python3.7/dist-packages (from ipython>=4->ipyparallel) (2.6.1)\n",
            "Requirement already satisfied: prompt-toolkit<2.0.0,>=1.0.4 in /usr/local/lib/python3.7/dist-packages (from ipython>=4->ipyparallel) (1.0.18)\n",
            "Requirement already satisfied: pickleshare in /usr/local/lib/python3.7/dist-packages (from ipython>=4->ipyparallel) (0.7.5)\n",
            "Requirement already satisfied: setuptools>=18.5 in /usr/local/lib/python3.7/dist-packages (from ipython>=4->ipyparallel) (56.1.0)\n",
            "Requirement already satisfied: ptyprocess>=0.5 in /usr/local/lib/python3.7/dist-packages (from pexpect; sys_platform != \"win32\"->ipython>=4->ipyparallel) (0.7.0)\n",
            "Requirement already satisfied: wcwidth in /usr/local/lib/python3.7/dist-packages (from prompt-toolkit<2.0.0,>=1.0.4->ipython>=4->ipyparallel) (0.2.5)\n",
            "Installing collected packages: ipyparallel\n",
            "Successfully installed ipyparallel-6.3.0\n"
          ],
          "name": "stdout"
        }
      ]
    },
    {
      "cell_type": "code",
      "metadata": {
        "colab": {
          "base_uri": "https://localhost:8080/"
        },
        "id": "41jobqLb77fw",
        "outputId": "eccc2362-1526-46db-d3b2-ce6bd7ffe153"
      },
      "source": [
        "! ipcluster start --profile=mpi -n 2 --daemonize"
      ],
      "id": "41jobqLb77fw",
      "execution_count": 3,
      "outputs": [
        {
          "output_type": "stream",
          "text": [
            "2021-06-01 05:55:55.900 [IPClusterStart] Created profile dir: '/root/.ipython/profile_mpi'\n"
          ],
          "name": "stdout"
        }
      ]
    },
    {
      "cell_type": "markdown",
      "metadata": {
        "id": "zyhZTa1dJpBv"
      },
      "source": [
        "Далее действуем как указанно выше для запуска MPI через Jupyter."
      ],
      "id": "zyhZTa1dJpBv"
    },
    {
      "cell_type": "markdown",
      "metadata": {
        "id": "q27gJKmy1lbu"
      },
      "source": [
        "# CUDA через Numba\n",
        "\n",
        "Если вы запускаете ноутбук через Google Colab, то для доступа к GPU вам нужно изменить настройки по-умолчанию: Меню > Среда выполнения > Сменить среду выполнения > Аппаратный ускоритель > GPU."
      ],
      "id": "q27gJKmy1lbu"
    },
    {
      "cell_type": "code",
      "metadata": {
        "colab": {
          "base_uri": "https://localhost:8080/"
        },
        "id": "lesser-aside",
        "outputId": "c3768bf7-c52e-4820-8dd1-8ee7a7ae453b"
      },
      "source": [
        "# Для работы с NVidia GPU проще всего использовать numba.cuda.\n",
        "# Устанавливается она как обычная numba\n",
        "! pip3 install numba\n",
        "# но для доступа к CUDA должно быть установлено соответствующее окружение, например для Ubuntu\n",
        "# ! sudo apt install nvidia-cuda-toolkit\n",
        "# Проверить корректность установки можно командой\n",
        "! numba -s | grep CUDA\n",
        "# Документация доступна здесь:\n",
        "# https://numba.pydata.org/numba-doc/latest/cuda/index.html\n",
        "# Развернутые сведения об устройстве можно получить командой\n",
        "# ! clinfo"
      ],
      "id": "lesser-aside",
      "execution_count": 1,
      "outputs": [
        {
          "output_type": "stream",
          "text": [
            "Requirement already satisfied: numba in /usr/local/lib/python3.7/dist-packages (0.51.2)\n",
            "Requirement already satisfied: setuptools in /usr/local/lib/python3.7/dist-packages (from numba) (56.1.0)\n",
            "Requirement already satisfied: numpy>=1.15 in /usr/local/lib/python3.7/dist-packages (from numba) (1.19.5)\n",
            "Requirement already satisfied: llvmlite<0.35,>=0.34.0.dev0 in /usr/local/lib/python3.7/dist-packages (from numba) (0.34.0)\n",
            "__CUDA Information__\n",
            "Found 1 CUDA devices\n",
            "CUDA driver version                           : 11020\n",
            "CUDA libraries:\n"
          ],
          "name": "stdout"
        }
      ]
    },
    {
      "cell_type": "code",
      "metadata": {
        "colab": {
          "base_uri": "https://localhost:8080/"
        },
        "id": "stuffed-double",
        "outputId": "58759121-1e8c-4155-f280-3a4fab366c08"
      },
      "source": [
        "# Импортируем необходимую библиотеку.\n",
        "import numba.cuda as cuda\n",
        "# Проверяем доступность numba.cuda.\n",
        "print(f\"{cuda.is_available()}\")\n",
        "# Перечисляем доступные устройства.\n",
        "cuda.detect() "
      ],
      "id": "stuffed-double",
      "execution_count": 3,
      "outputs": [
        {
          "output_type": "stream",
          "text": [
            "True\n",
            "Found 1 CUDA devices\n",
            "id 0             b'Tesla T4'                              [SUPPORTED]\n",
            "                      compute capability: 7.5\n",
            "                           pci device id: 4\n",
            "                              pci bus id: 0\n",
            "Summary:\n",
            "\t1/1 devices are supported\n"
          ],
          "name": "stdout"
        },
        {
          "output_type": "execute_result",
          "data": {
            "text/plain": [
              "True"
            ]
          },
          "metadata": {
            "tags": []
          },
          "execution_count": 3
        }
      ]
    },
    {
      "cell_type": "code",
      "metadata": {
        "colab": {
          "base_uri": "https://localhost:8080/"
        },
        "id": "technical-prior",
        "outputId": "38346866-7b72-47d7-a990-5c12ddb47b45"
      },
      "source": [
        "# Названия функций для математический операций нужно импортировать.\n",
        "import math\n",
        "import numpy as np\n",
        "# Пишем простую функцию для работы на GPU.\n",
        "@cuda.jit\n",
        "def cudasqrt(x, y):\n",
        "    i = cuda.grid(1) # Оси в CUDA нумеруются с 1-ой.\n",
        "    if i>=cuda.gridsize(1): return\n",
        "    y[i] = math.sqrt(x[i])\n",
        "# Считаем корни\n",
        "x = np.arange(10, dtype=np.float32)**2\n",
        "y = np.empty_like(x)\n",
        "cudasqrt[1, 100](x, y) # Обязательно указываем [число блоков, число потоков на блок].\n",
        "print(y)"
      ],
      "id": "technical-prior",
      "execution_count": 5,
      "outputs": [
        {
          "output_type": "stream",
          "text": [
            "[0. 1. 2. 3. 4. 5. 6. 7. 8. 9.]\n"
          ],
          "name": "stdout"
        }
      ]
    },
    {
      "cell_type": "code",
      "metadata": {
        "id": "skilled-heavy"
      },
      "source": [
        ""
      ],
      "id": "skilled-heavy",
      "execution_count": null,
      "outputs": []
    }
  ]
}