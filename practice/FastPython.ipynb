{
 "cells": [
  {
   "cell_type": "markdown",
   "metadata": {},
   "source": [
    "# Как писать быстрый код на Python"
   ]
  },
  {
   "cell_type": "markdown",
   "metadata": {},
   "source": [
    "## Чистый Питон"
   ]
  },
  {
   "cell_type": "code",
   "execution_count": 1,
   "metadata": {},
   "outputs": [
    {
     "name": "stdout",
     "output_type": "stream",
     "text": [
      "100000000000000000000000000000000000000000000000000000000000000000000000000000000000000000000000000000000000000000000000000000000000000000000000000000000000000000000000000000000000000000000000000000000000000000000000000000000000000000000000000000000000000000000000000000000000000000000000000000000000000000000000000000000000000000000000000000000000000000000000000000000000000000000000000000000000000000000000000000000000000000000000000000000000000000000000000000000000000000000000000000000000000000000\n",
      "<class 'int'>\n"
     ]
    }
   ],
   "source": [
    "# Язык Python обладает многими необходимыми для вычислений функциями.\n",
    "# Целые числа хранятся со знаком и имеют произвольную длину\n",
    "n = 1 # Целое число\n",
    "for _ in range(500):\n",
    "    n *= 10\n",
    "print(n)\n",
    "print(type(n))"
   ]
  },
  {
   "cell_type": "code",
   "execution_count": 2,
   "metadata": {},
   "outputs": [
    {
     "name": "stdout",
     "output_type": "stream",
     "text": [
      "1+2=3\n",
      "1-2=-1\n",
      "1*2=2\n",
      "1/2=0.5\n",
      "1//2=0\n",
      "4%3=1\n",
      "(-1)%3=2\n"
     ]
    }
   ],
   "source": [
    "# Арифметика на целых определенна обычным образом.\n",
    "print(f\"1+2={1+2}\")\n",
    "print(f\"1-2={1-2}\")\n",
    "print(f\"1*2={1*2}\")\n",
    "# Обратите однако внимание, что целочисленное деление обозначается //\n",
    "print(f\"1/2={1/2}\")\n",
    "print(f\"1//2={1//2}\")\n",
    "# Часто бывает полезен остаток от деления.\n",
    "print(f\"4%3={4%3}\")\n",
    "# Обратете внимание, что остаток от отрицательного числа положителен.\n",
    "# Остаток определен таким образом, чтобы согласовываться с арифметикой по данному модулю.\n",
    "print(f\"(-1)%3={(-1)%3}\")\n",
    "assert ((-1)%3 + 1%3)%3 == (1-1)%3"
   ]
  },
  {
   "cell_type": "code",
   "execution_count": 3,
   "metadata": {},
   "outputs": [
    {
     "name": "stdout",
     "output_type": "stream",
     "text": [
      "type(1)=<class 'int'>\n",
      "type(1.0)=<class 'float'>\n",
      "type(1e1)=<class 'float'>\n"
     ]
    }
   ],
   "source": [
    "# Вещественные числа имеют в своей записи точку или экспоненту\n",
    "print(f\"type(1)={type(1)}\")\n",
    "print(f\"type(1.0)={type(1.0)}\")\n",
    "print(f\"type(1e1)={type(1e1)}\")"
   ]
  },
  {
   "cell_type": "markdown",
   "metadata": {},
   "source": [
    "Научная форма записи чисел указывает показатель после символа `e`:\n",
    "$$\\textrm{314e-2}=e14\\cdot 10^{-2}=3.14.$$"
   ]
  },
  {
   "cell_type": "code",
   "execution_count": 4,
   "metadata": {},
   "outputs": [
    {
     "name": "stdout",
     "output_type": "stream",
     "text": [
      "1.0 + 1e-15 = 1.000000000000001\n",
      "1.0 + 1e-16 = 1.0\n",
      "1e307 * 10 = 1e+308\n",
      "1e308 * 10 = inf\n",
      "1e309 = inf\n",
      "1e-323 = 1e-323\n",
      "1e-324 = 0.0\n"
     ]
    }
   ],
   "source": [
    "# Вещественные числа хранятся в виде чисел с плавающей запятой двойной точности.\n",
    "print(f\"1.0 + 1e-15 = {1.0 + 1e-15}\")\n",
    "print(f\"1.0 + 1e-16 = {1.0 + 1e-16}\")\n",
    "print(f\"1e307 * 10 = {1e307 * 10}\")\n",
    "print(f\"1e308 * 10 = {1e308 * 10}\")\n",
    "print(f\"1e309 = {1e309}\")\n",
    "print(f\"1e-323 = {1e-323}\")\n",
    "print(f\"1e-324 = {1e-324}\")"
   ]
  },
  {
   "cell_type": "code",
   "execution_count": 5,
   "metadata": {},
   "outputs": [
    {
     "name": "stdout",
     "output_type": "stream",
     "text": [
      "1+2i = (1+2j)\n",
      "i*(1+2i) = (-2+1j)\n"
     ]
    }
   ],
   "source": [
    "# Также питон ествественно поддерживает комплексные числа.\n",
    "# Чисто мнимое число получается добавлением символа j после вещественного числа.\n",
    "print(f\"1+2i = {1+2j}\")\n",
    "print(f\"i*(1+2i) = {1j*(1+2j)}\")"
   ]
  },
  {
   "cell_type": "code",
   "execution_count": 6,
   "metadata": {},
   "outputs": [
    {
     "name": "stdout",
     "output_type": "stream",
     "text": [
      "pi ~ 355/113 ~ 3.1415929203539825\n",
      "pi*2/5 = 142/113\n",
      "int(3.14) = 3\n",
      "float('3.14') = 3.14\n"
     ]
    }
   ],
   "source": [
    "# Не во всех языках общего назначения в стандартной библиотеке есть рациональные числа, но в питоне они есть.\n",
    "from fractions import Fraction\n",
    "pi = Fraction(355, 113)\n",
    "print(f\"pi ~ {pi} ~ {float(pi)}\")\n",
    "print(f\"pi*2/5 = {pi*2/5}\")\n",
    "# Обратите внимание, что типы конвертируются между собой вызовом конструктора.\n",
    "print(f\"int(3.14) = {int(3.14)}\")\n",
    "print(f\"float('3.14') = {float('3.14')}\")"
   ]
  },
  {
   "cell_type": "code",
   "execution_count": 7,
   "metadata": {},
   "outputs": [
    {
     "name": "stdout",
     "output_type": "stream",
     "text": [
      "a = [1, 2, 3]\n",
      "a[1]=5; a = [1, 5, 3]\n",
      "a.insert(1, 5); a = [1, 6, 5, 3]\n",
      "b = (1, 2, 3)\n"
     ]
    }
   ],
   "source": [
    "# Для хранения векторов на питоне есть две возможности: списки и кортежи.\n",
    "a = [1,2,3] # Список\n",
    "print(f\"a = {a}\")\n",
    "a[1] = 5 # Списки можно изменять.\n",
    "print(f\"a[1]=5; a = {a}\") \n",
    "a.insert(1, 6) # Можно даже менять длину списка.\n",
    "print(f\"a.insert(1, 5); a = {a}\") \n",
    "\n",
    "b = (1,2,3) # Кортеж\n",
    "print(f\"b = {b}\")\n",
    "# b[1] = 5 # Кортежи нельзя изменять.\n",
    "\n",
    "# И списки, и кортежи могут содержать любые объекты.\n",
    "a1 = [1, 1.0, 'a']\n",
    "b1 = (1, 1.0, 'a')"
   ]
  },
  {
   "cell_type": "code",
   "execution_count": 8,
   "metadata": {},
   "outputs": [
    {
     "name": "stdout",
     "output_type": "stream",
     "text": [
      "62.6 ms ± 4.2 ms per loop (mean ± std. dev. of 7 runs, 10 loops each)\n"
     ]
    }
   ],
   "source": [
    "# Универсальность списков и кортежей не позволяет хранить в них вектора чисел максимально плотно,\n",
    "# и работать с ними максимально быстро.\n",
    "# Магия IPython/Jupyter позволяет нам измерить время выполнения команды.\n",
    "# В данном случае мы создаем список чисел до 1 000 000\n",
    "%timeit a = list(x for x in range(1000000)) "
   ]
  },
  {
   "cell_type": "code",
   "execution_count": 9,
   "metadata": {},
   "outputs": [
    {
     "name": "stdout",
     "output_type": "stream",
     "text": [
      "77.3 ms ± 7.12 ms per loop (mean ± std. dev. of 7 runs, 10 loops each)\n"
     ]
    }
   ],
   "source": [
    "%%timeit\n",
    "# Аналогично можно было создать список в цикле\n",
    "a = []\n",
    "for x in range(1000000):\n",
    "    a.append(x)\n",
    "# В этом варианте несколько большие затраты на интерпретацию.\n",
    "# Однако оба этих варианта работают слишком медленно."
   ]
  },
  {
   "cell_type": "code",
   "execution_count": 10,
   "metadata": {},
   "outputs": [
    {
     "name": "stdout",
     "output_type": "stream",
     "text": [
      "65.2 ms ± 5.12 ms per loop (mean ± std. dev. of 7 runs, 10 loops each)\n"
     ]
    }
   ],
   "source": [
    "# Кортежи дают аналогичный результат.\n",
    "%timeit a = tuple(x for x in range(1000000)) "
   ]
  },
  {
   "cell_type": "code",
   "execution_count": 11,
   "metadata": {},
   "outputs": [
    {
     "name": "stdout",
     "output_type": "stream",
     "text": [
      "CPU times: user 59.8 ms, sys: 16 ms, total: 75.7 ms\n",
      "Wall time: 81.4 ms\n",
      "CPU times: user 96.2 ms, sys: 3.45 ms, total: 99.7 ms\n",
      "Wall time: 101 ms\n",
      "CPU times: user 256 ms, sys: 11.3 ms, total: 268 ms\n",
      "Wall time: 269 ms\n"
     ]
    }
   ],
   "source": [
    "# В таком духе можно делать операции над векторами, но это медленно.\n",
    "# Например, сложим два вектора.\n",
    "%time a = list(x for x in range(1000000)) \n",
    "%time b = list(x*x for x in range(1000000)) \n",
    "# Интересно, что хотя во втором случае мы возвели числа в квадрат, на скорость вычислений это не повлияло.\n",
    "# В данном случае основные расходы на интерпретацию, а остальное на выделение памяти, сами вычисления на этом фоне теряются.\n",
    "# Правда можно сделать еще хуже, если добавить вызов функции.\n",
    "%time b = list(x**2 for x in range(1000000)) "
   ]
  },
  {
   "cell_type": "code",
   "execution_count": 12,
   "metadata": {},
   "outputs": [
    {
     "name": "stdout",
     "output_type": "stream",
     "text": [
      "CPU times: user 92.7 ms, sys: 15.7 ms, total: 108 ms\n",
      "Wall time: 107 ms\n"
     ]
    }
   ],
   "source": [
    "# Складываем вектора, используя list comprehension.\n",
    "%time c = list(x+y for x,y in zip(a,b))"
   ]
  },
  {
   "cell_type": "code",
   "execution_count": 13,
   "metadata": {},
   "outputs": [
    {
     "name": "stdout",
     "output_type": "stream",
     "text": [
      "CPU times: user 190 ms, sys: 85 µs, total: 190 ms\n",
      "Wall time: 190 ms\n"
     ]
    }
   ],
   "source": [
    "%%time\n",
    "# А теперь сложим вектора без выделения новой памяти, сохраняя результат в существующий вектор.\n",
    "for n in range(len(a)):\n",
    "    c[n] = a[n] + b[n]"
   ]
  },
  {
   "cell_type": "markdown",
   "metadata": {},
   "source": [
    "## NumPy"
   ]
  },
  {
   "cell_type": "markdown",
   "metadata": {},
   "source": [
    "Как мы видим, на питоне можно считать, но он плохо подходит для численного моделирования, так как\n",
    "1. Мало типов данных, невозможно контролировать точность, нет поддержки массивов, матриц и т.п.\n",
    "2. Слишком малая скорость вычислений из-за интерпретируемости языка.\n",
    "\n",
    "Проблемы с хранением могуть быть решены создания специального типа, в котором хранятся числа только одного типа, \n",
    "тогда их можно хранить подряд друг за другом, что уменьшает требуемый обьем памяти.\n",
    "Такой класс определен в пакете NumPy."
   ]
  },
  {
   "cell_type": "code",
   "execution_count": 14,
   "metadata": {},
   "outputs": [
    {
     "name": "stdout",
     "output_type": "stream",
     "text": [
      "CPU times: user 15.7 ms, sys: 7.94 ms, total: 23.6 ms\n",
      "Wall time: 23.6 ms\n",
      "type a = <class 'numpy.ndarray'>\n"
     ]
    }
   ],
   "source": [
    "import numpy as np # Далее пакет NumPy доступен по сокращению np.\n",
    "# Снова создадим вектор из 1 000 000 первых целых чисел, но теперь в типе numpy.NDArray\n",
    "%time a = np.arange(1000000)\n",
    "print(f\"type a = {type(a)}\")\n",
    "# Время выполнения на порядок сохранилось, для больших массивов разница будет еще больше."
   ]
  },
  {
   "cell_type": "code",
   "execution_count": 15,
   "metadata": {},
   "outputs": [
    {
     "name": "stdout",
     "output_type": "stream",
     "text": [
      "m = [[1 2 3]\n",
      " [4 5 6]]\n",
      "m.T = [[1 4]\n",
      " [2 5]\n",
      " [3 6]]\n"
     ]
    }
   ],
   "source": [
    "# Также тип NDArray удобен для хранения многомерных массивов.\n",
    "m = np.array([[1,2,3],[4,5,6]]) \n",
    "# Здесь мы преобразовали матрицу в виде списка списков в NDArray\n",
    "print(f\"m = {m}\")\n",
    "# Теперь матрицу можно транспонировать\n",
    "print(f\"m.T = {m.T}\")\n",
    "# В виде списков это было бы сделать гораздо сложнее."
   ]
  },
  {
   "cell_type": "code",
   "execution_count": 16,
   "metadata": {},
   "outputs": [
    {
     "name": "stdout",
     "output_type": "stream",
     "text": [
      "CPU times: user 7.47 ms, sys: 7.91 ms, total: 15.4 ms\n",
      "Wall time: 13.6 ms\n",
      "CPU times: user 1.77 ms, sys: 0 ns, total: 1.77 ms\n",
      "Wall time: 1.31 ms\n",
      "CPU times: user 1.53 ms, sys: 0 ns, total: 1.53 ms\n",
      "Wall time: 1.24 ms\n",
      "CPU times: user 11.9 ms, sys: 3.24 ms, total: 15.1 ms\n",
      "Wall time: 14.9 ms\n",
      "CPU times: user 2.44 ms, sys: 0 ns, total: 2.44 ms\n",
      "Wall time: 2.1 ms\n",
      "CPU times: user 2.45 ms, sys: 374 µs, total: 2.83 ms\n",
      "Wall time: 2.57 ms\n"
     ]
    }
   ],
   "source": [
    "# Над массивами естественным образом определены арифметические операции\n",
    "%time b = a**2\n",
    "%time b = a*a\n",
    "%time b = a**2\n",
    "# Теперь время работы гораздо более разумное, так как арифметика над массивами написана \n",
    "# на низкоуровневых языках и использует векторные команды процессора.\n",
    "# Иногда инструкции NumPy работают быстрее наивного кода на C.\n",
    "\n",
    "%time c=a+b\n",
    "%time c+=a\n",
    "%time c=a+b\n",
    "# Обратите внимание, что вторая команда работает чуть быстрее первой,\n",
    "# так как в ней не выделяется память.\n",
    "# Интересная особенность Jupyter, что третья команда выполняется на порядок быстрее первой,\n",
    "# хотя команды буквально совпадают.\n",
    "# Видимо, если переменная уже существовала, она переиспользуется."
   ]
  },
  {
   "cell_type": "code",
   "execution_count": 17,
   "metadata": {},
   "outputs": [
    {
     "name": "stdout",
     "output_type": "stream",
     "text": [
      "CPU times: user 459 ms, sys: 109 µs, total: 460 ms\n",
      "Wall time: 463 ms\n"
     ]
    }
   ],
   "source": [
    "%%time\n",
    "# Вычисления в цикле работают значительно медленнее.\n",
    "for n in range(len(a)):\n",
    "    c[n] += a[n]"
   ]
  },
  {
   "cell_type": "code",
   "execution_count": 18,
   "metadata": {},
   "outputs": [],
   "source": [
    "# Главный вывод: если вы делает операции над многими элементами, то пусть цикл будет внутри функции numpy,\n",
    "# а не в коде на python."
   ]
  },
  {
   "cell_type": "markdown",
   "metadata": {},
   "source": [
    "## Numba\n",
    "\n",
    "Если вам привычнее думать в терминах циклов, то вам может помочь Numba.\n",
    "С помощью этой библиотеке функция на python компилируется во время выполнения в весьма эффективный код.  "
   ]
  },
  {
   "cell_type": "code",
   "execution_count": 19,
   "metadata": {},
   "outputs": [
    {
     "name": "stdout",
     "output_type": "stream",
     "text": [
      "CPU times: user 79 µs, sys: 4.02 ms, total: 4.1 ms\n",
      "Wall time: 4.11 ms\n"
     ]
    }
   ],
   "source": [
    "import numba as nb # Теперь Numba доступна под именем nb\n",
    "# Для примера создадим функцию, которая складывает вектора.\n",
    "@nb.njit(nb.int64[:](nb.int64[:],nb.int64[:]))\n",
    "def add(a, b):\n",
    "    c = np.empty_like(a)\n",
    "    for n in range(a.shape[0]):\n",
    "        c[n] = a[n] + b[n]\n",
    "    return c\n",
    "# Декоратор @nb.njit говорит, что следующая функция должна быть откомпилирована.\n",
    "# Здесь нам пришлось задать типы входных и выходных значений, чтобы компилятор мог заменить сложение\n",
    "# на машинную инструкцию. \n",
    "\n",
    "%time c=add(a,b) \n",
    "# Производительность почти как у функции из NumPy.\n",
    "\n",
    "# Не все функции можно использовать из Numba, см. поддерживаемые команды в документации."
   ]
  },
  {
   "cell_type": "code",
   "execution_count": 20,
   "metadata": {},
   "outputs": [
    {
     "name": "stdout",
     "output_type": "stream",
     "text": [
      "17.3 ms ± 1.1 ms per loop (mean ± std. dev. of 7 runs, 100 loops each)\n",
      "31 ms ± 671 µs per loop (mean ± std. dev. of 7 runs, 10 loops each)\n"
     ]
    }
   ],
   "source": [
    "# Кроме эффективного преобразования циклов, Numba может быть полезно, если над одним элементом\n",
    "# массива производится много операций. \n",
    "# Так как в наше время основные затраты при вычислениях приходятся на доступ к памяти,\n",
    "# то выполняя больше операций над одним элементом сразу, мы значительно ускоряем работу программы.\n",
    "\n",
    "# Создадим массив чисел с плавающей запятой двойной точности\n",
    "a=np.arange(10000000,dtype=np.float64) \n",
    "# %timeit c=np.sin(a)\n",
    "# %timeit c=np.sin(np.sin(a))\n",
    "%timeit c=a*a\n",
    "%timeit c=(a+3.14)*a\n",
    "# Две операции занимают в два раза больше времени, что кажется логичным."
   ]
  },
  {
   "cell_type": "code",
   "execution_count": 21,
   "metadata": {},
   "outputs": [
    {
     "name": "stdout",
     "output_type": "stream",
     "text": [
      "38.2 ms ± 672 µs per loop (mean ± std. dev. of 7 runs, 10 loops each)\n",
      "39 ms ± 770 µs per loop (mean ± std. dev. of 7 runs, 10 loops each)\n"
     ]
    }
   ],
   "source": [
    "@nb.njit(nb.float64[:](nb.float64[:]))\n",
    "def f1(x):\n",
    "    y = np.empty_like(x)\n",
    "    for n in nb.prange(x.shape[0]):\n",
    "        y[n] = x[n]*x[n]\n",
    "    return y\n",
    "\n",
    "\n",
    "@nb.njit(nb.float64[:](nb.float64[:]))\n",
    "def f2(x):\n",
    "    y = np.empty_like(x)\n",
    "    for n in range(x.shape[0]):\n",
    "        y[n] = (x[n]+3.14)*x[n]\n",
    "    return y\n",
    "\n",
    "%timeit c=f1(a)\n",
    "%timeit c=f2(a)\n",
    "# Магическим образом получили время работы f2 почти идентичное f1, хотя операций делалось две, вместо одной.\n",
    "# Видим, что основное время работы занимал доступ к памяти, а не арифметика.\n",
    "# Для дорогих операций, вроде np.sin, такой разницы во времени не будет."
   ]
  },
  {
   "cell_type": "code",
   "execution_count": 22,
   "metadata": {},
   "outputs": [
    {
     "name": "stdout",
     "output_type": "stream",
     "text": [
      "20 ms ± 1.41 ms per loop (mean ± std. dev. of 7 runs, 100 loops each)\n",
      "21.5 ms ± 2.51 ms per loop (mean ± std. dev. of 7 runs, 100 loops each)\n"
     ]
    }
   ],
   "source": [
    "# Функция f1 выше работала медленнее, чем умножение в Numpy, но мы можем ускорить функцию, использую несколько потоков.\n",
    "# Обратите внимание на использование numba.prange вместо range.\n",
    "@nb.njit(nb.float64[:](nb.float64[:]), parallel=True)\n",
    "def f1(x):\n",
    "    y = np.empty_like(x)\n",
    "    for n in nb.prange(x.shape[0]):\n",
    "        y[n] = x[n]*x[n]\n",
    "    return y\n",
    "\n",
    "@nb.njit(nb.float64[:](nb.float64[:]), parallel=True)\n",
    "def f2(x):\n",
    "    y = np.empty_like(x)\n",
    "    for n in nb.prange(x.shape[0]):\n",
    "        y[n] = (x[n]+3.14)*x[n]\n",
    "    return y\n",
    "\n",
    "%timeit c=f1(a)\n",
    "%timeit c=f2(a)"
   ]
  },
  {
   "cell_type": "code",
   "execution_count": 23,
   "metadata": {},
   "outputs": [],
   "source": [
    "# Если массивы заведомо непрерывные (т.е. не результат индексации), \n",
    "# то можно это явно указать, включив дополнительные оптимизации. \n",
    "# @nb.njit(nb.float64[::1](nb.float64[::1]), parallel=True)"
   ]
  },
  {
   "cell_type": "code",
   "execution_count": 24,
   "metadata": {},
   "outputs": [],
   "source": [
    "# Еще сильнее можно ускорить вычисления, исключив проверки чисел с плавающей запятой на нечисловые значения,\n",
    "# и разрешив оптимизации, которые могут незначительно повлиять на ответ.\n",
    "# В большинстве случаев безопасно использовать \n",
    "# @nb.njit(..., parallel=True, nogil=True, fastmath=True)"
   ]
  },
  {
   "cell_type": "code",
   "execution_count": 25,
   "metadata": {},
   "outputs": [
    {
     "name": "stdout",
     "output_type": "stream",
     "text": [
      "38.2 ms ± 830 µs per loop (mean ± std. dev. of 7 runs, 10 loops each)\n",
      "118 ms ± 2.15 ms per loop (mean ± std. dev. of 7 runs, 10 loops each)\n"
     ]
    }
   ],
   "source": [
    "# Для получения оптимальной производительности нужно всегда учитывать работу кеша.\n",
    "# Сравним два варианта сложения матриц, отличающихся порядком суммирования элементов.\n",
    "a = np.arange(9000000, dtype=np.float64).reshape((3000,3000))\n",
    "b = a.copy() # Чтобы создать копию массива, мало сделать присваивание, нужно вызвать copy.\n",
    "\n",
    "@nb.njit(nb.float64[:,:](nb.float64[:,:],nb.float64[:,:]))\n",
    "def sum1(a,b):\n",
    "    c = np.empty_like(a)\n",
    "    for n in range(a.shape[0]):\n",
    "        for m in range(a.shape[1]):\n",
    "            c[n,m] = a[n,m]+b[n,m]\n",
    "    return c\n",
    "\n",
    "@nb.njit(nb.float64[:,:](nb.float64[:,:],nb.float64[:,:]))\n",
    "def sum2(a,b):\n",
    "    c = np.empty_like(a)\n",
    "    for m in range(a.shape[1]):\n",
    "        for n in range(a.shape[0]):\n",
    "            c[n,m] = a[n,m]+b[n,m]\n",
    "    return c\n",
    "\n",
    "%timeit c = sum1(a,b)\n",
    "%timeit c = sum2(a,b)\n",
    "# Вариант с внутренним циклом по столбцам на порядок быстрее.\n",
    "# Это объясняется тем, что при чтении одного значения из памяти сразу целый набор последовательных\n",
    "# значений загружаются в кеш, из которого чтение затем идем на порядок быстрее.\n",
    "# Для максимальной производительности нужно максимально использовать записанные в кеш значения."
   ]
  },
  {
   "cell_type": "code",
   "execution_count": 26,
   "metadata": {},
   "outputs": [
    {
     "name": "stdout",
     "output_type": "stream",
     "text": [
      "48.3 ms ± 2.47 ms per loop (mean ± std. dev. of 7 runs, 10 loops each)\n",
      "12.2 ms ± 297 µs per loop (mean ± std. dev. of 7 runs, 100 loops each)\n",
      "43.5 ms ± 626 µs per loop (mean ± std. dev. of 7 runs, 10 loops each)\n"
     ]
    }
   ],
   "source": [
    "# Чтобы получить максимальную производительность, нужно четко представлять,\n",
    "# во что преобразуется ваш код, что часто не очевидно.\n",
    "# Например, сравним следующие коды, вычисляющие конечную разность.\n",
    "@nb.njit(nb.float64[::1](nb.float64[::1]))\n",
    "def f0(a):\n",
    "    c = np.empty_like(a)\n",
    "    for n in range(1,a.shape[0]):\n",
    "        c[n] = a[n]-a[n-1]\n",
    "    c[0] = a[0] - a[-1]\n",
    "    return c\n",
    "\n",
    "@nb.njit(nb.void(nb.float64[::1], nb.float64[::1]))\n",
    "def f1(a, c):\n",
    "    for n in range(1, a.shape[0]):\n",
    "        c[n] = a[n] - a[n-1]\n",
    "    c[0] = a[0] - a[-1]\n",
    "\n",
    "@nb.njit(nb.void(nb.float64[::1], nb.float64[::1]))\n",
    "def f2(a, c):\n",
    "    sx, = a.shape\n",
    "    for n in range(sx):\n",
    "        c[n] = a[n]-a[(n-1)%sx]\n",
    "\n",
    "a = np.arange(10000000,dtype=np.float64) \n",
    "c = np.empty_like(a)   \n",
    "%timeit c=f0(a)\n",
    "%timeit f1(a, c)\n",
    "%timeit f2(a, c)\n",
    "# Вариант f0 отличается от f1 только выделением памяти в f0, что делает этот вариант самым медленным.\n",
    "# Варианты f1 и f2 не выделяют памяти, но время их выполнения отличается в разы.\n",
    "# В варианте f2 вычисляется остаток от деления %, который компилятор не может эффективно векторизовать."
   ]
  },
  {
   "cell_type": "code",
   "execution_count": null,
   "metadata": {},
   "outputs": [],
   "source": []
  }
 ],
 "metadata": {
  "kernelspec": {
   "display_name": "Python 3",
   "language": "python",
   "name": "python3"
  },
  "language_info": {
   "codemirror_mode": {
    "name": "ipython",
    "version": 3
   },
   "file_extension": ".py",
   "mimetype": "text/x-python",
   "name": "python",
   "nbconvert_exporter": "python",
   "pygments_lexer": "ipython3",
   "version": "3.9.1"
  }
 },
 "nbformat": 4,
 "nbformat_minor": 4
}
