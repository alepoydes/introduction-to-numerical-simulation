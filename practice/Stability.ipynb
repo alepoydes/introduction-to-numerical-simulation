{
 "cells": [
  {
   "cell_type": "markdown",
   "metadata": {},
   "source": [
    "#  Вычислительная устойчивость (черновик)"
   ]
  },
  {
   "cell_type": "markdown",
   "metadata": {},
   "source": [
    "Под [вычислительной устойчивостью](https://ru.wikipedia.org/wiki/Вычислительная_устойчивость) понимают свойство алгоритма не увеличивать ошибку данных,\n",
    "т.е. небольшие вариации входных данных должны приводить к небольшому изменению результата. \n",
    "Существует несколько точных математических формулировок устойчивости, некоторые из которых будут рассмотрены ниже."
   ]
  },
  {
   "cell_type": "markdown",
   "metadata": {},
   "source": [
    "В качестве примера рассмотрим задачу решения кубического уравнения \n",
    "([Nick Higham. Accuracy and Stability of Numerical Algorithms](https://www.maths.manchester.ac.uk/~higham/asna/index.php) 26.3.3. Roots of a Cubic).\n",
    "Рассмотрим [кубическое уравнение](https://ru.wikipedia.org/wiki/Кубическое_уравнение) \n",
    "$$x^3+ax^2+bx+c=0$$ \n",
    "и приведем его к каноническому виду\n",
    "$$y^3+py+q=0,\\quad\n",
    "p=b-\\frac{a^2}3,\\quad\n",
    "q=\\frac{2a^3}{27}-\\frac{ab}{3}+c,$$ \n",
    "заменой $x=y-a/3$.\n",
    "Замена Виета $y=w-p/(3w)$ приводит уравнение к бикубическому,\n",
    "$$\n",
    "w^3-\\frac{p^3}{27w^3}+q=0\\quad\\Leftrightarrow\\quad\n",
    "(w^3)^2+qw^3-\\frac{p^3}{27}=0.\n",
    "$$\n",
    "Решая квадратное относительно $w^3$ уравнение, получаем:\n",
    "$$w^3=-\\frac{q}{2}\\pm\\sqrt{\\frac{q^2}{4}+\\frac{p^3}{27}}.$$\n",
    "Извлекая кубический корень находим три различных корня (причем достаточно взять любой один из знаков в формуле выше).\n",
    "Делая обратные подстановки $w\\mapsto y\\mapsto x$, получаем искомые решения уравнения.\n",
    "\n",
    "Таким образом мы получили явные аналитические формулы для расчета корней кубического уравнения,\n",
    "полностью решив задачу с точки зрения математики.\n",
    "Проверим, так ли хороши эти формулы для численного счета.\n",
    "Для этого оценим устойчивость метода."
   ]
  },
  {
   "cell_type": "code",
   "execution_count": 1,
   "metadata": {},
   "outputs": [],
   "source": [
    "import numpy as np"
   ]
  },
  {
   "cell_type": "code",
   "execution_count": 2,
   "metadata": {},
   "outputs": [
    {
     "name": "stdout",
     "output_type": "stream",
     "text": [
      "Roots of x^3-2x^2-x+2=0: [ 2.-0.j -1.-0.j  1.+0.j]\n"
     ]
    }
   ],
   "source": [
    "# Определим функцию, решающую уравнение третьего порядка.\n",
    "def solve_cubic(coefs):\n",
    "    \"\"\"\n",
    "    Аргумент функции coefs=[a,b,c] задает уравнение x**3_a*x**2+b*x+c=0.\n",
    "    Фнукция возвращает три корня этого уравнения [x0,x1,x2].\n",
    "    \"\"\"\n",
    "    a, b, c = coefs\n",
    "    p = b - a**2/3\n",
    "    q = 2*a**3/27-a*b/3+c\n",
    "    disc = q**2/4+p**3/27 # дискриминант бикубического уравнения\n",
    "    w_cubed = -q/2+np.sqrt(disc+0j) \n",
    "    # Три кубических корня из w_cubed.\n",
    "    rho, phi = np.abs(w_cubed), np.angle(w_cubed)\n",
    "    ws = np.cbrt(rho)*np.exp(1j*(phi+np.array([0,2,-2])*np.pi)/3)   \n",
    "    # Вспомогательная функция, преобразующая w в x.\n",
    "    def w2x(w):\n",
    "        y = w-p/(3*w)\n",
    "        x = y-a/3\n",
    "        return x\n",
    "    return w2x(ws)\n",
    "\n",
    "# Для примера решим уравнение x^3-2x^2-x+2,\n",
    "with np.printoptions(precision=2, suppress=True):\n",
    "    print( \"Roots of x^3-2x^2-x+2=0:\", solve_cubic([-2,-1,2]) )"
   ]
  },
  {
   "cell_type": "code",
   "execution_count": 3,
   "metadata": {},
   "outputs": [
    {
     "name": "stdout",
     "output_type": "stream",
     "text": [
      "Error on a random polynomial: 1.616771613060855e-16\n",
      "Error for Higham's example : 0.00019053197555237155\n"
     ]
    }
   ],
   "source": [
    "# Выясним, насколько точные корни дает наша функция.\n",
    "def relative_error(x, x0):\n",
    "    \"\"\"\n",
    "    Считает относительную погрешность |x-x0|/|x0| в норме l-infty для                                                                                                                                                                                               .\n",
    "    Так как порядок корней не фиксирован, то выбирается минимальная ошибка из всех перестановок.\n",
    "    \"\"\"\n",
    "    x0 = np.asarray(x0)\n",
    "    x = np.asarray(x)\n",
    "    permutations = [ [0,1,2], [0,2,1], [1,2,0], [2,1,0], [2,0,1], [1,0,2] ]\n",
    "    abserr = [ np.linalg.norm(x[p]-x0, ord=np.inf) for p in permutations]\n",
    "    return np.min(abserr) / np.linalg.norm(x0)\n",
    "\n",
    "# Простой тест на предыдущем многочлене\n",
    "assert relative_error(solve_cubic([-2,-1,2]), [2,-1,1])<1e-15\n",
    "\n",
    "# Для испытаний нам удобно иметь корни явно, тогда нам нужна функция для вычисления коэффициентов многочлена через корни.\n",
    "def roots2coefs(roots):\n",
    "    x0,x1,x2=roots\n",
    "    return [-(x0+x1+x2), x0*x1+x1*x2+x2*x0, -x0*x1*x2]\n",
    "\n",
    "# Снова проверяем на примере\n",
    "import numpy.testing as npt\n",
    "npt.assert_allclose( roots2coefs([2,-1,1]), [-2,-1,2] )\n",
    "        \n",
    "# Далее нам удобно собрать все части в одну функцию.\n",
    "def test_cubic_solve(roots):\n",
    "    \"\"\"Функция возвращает ошибку вычисления функцией cubic_solve корней многочлена, заданного списком его корней.\"\"\"\n",
    "    err = relative_error( solve_cubic(roots2coefs(roots)), roots )\n",
    "#     print(err)\n",
    "    return err\n",
    "\n",
    "# Небольшая проверка: считаем ошибку на случайном многочлене.\n",
    "print( \"Error on a random polynomial:\", test_cubic_solve(np.random.randn(3)) )\n",
    "\n",
    "# Ошибка на случайном многочлене типично мала. Однако равномерно ли ограниченна ошибка?\n",
    "# Возьмем пример из Higham'а\n",
    "print( \"Error for Higham's example :\", test_cubic_solve([-1.6026, -6.4678e-2 + 8.8798e-1j, -6.4678e-2 - 8.8798e-1j]) )\n",
    "# Ошибка 2e-4 (у Higham 1e-2 на несколько отличных коэффициентах) на много порядков выше ошибки исходных данных.\n",
    "# Что-то явно не так с нашим алгоритмом."
   ]
  },
  {
   "cell_type": "code",
   "execution_count": 4,
   "metadata": {},
   "outputs": [
    {
     "name": "stdout",
     "output_type": "stream",
     "text": [
      "Optimization terminated successfully.\n",
      "         Current function value: -0.000000\n",
      "         Iterations: 132\n",
      "         Function evaluations: 338\n",
      "Error for roots [0.17799910776935274, (0.45268929988808415-0.44600828164939554j), (0.45268929988808415+0.44600828164939554j)]: 4.411003433512207e-16 \n"
     ]
    }
   ],
   "source": [
    "# Чтобы оценить предельную погрешность, не нужно искать примеры в литературе, можно численно максимизировать функционал ошибки.\n",
    "from scipy.optimize import minimize\n",
    "def find_worst_case():\n",
    "    \"\"\"Вычисляет многочлен, на котором ошибка вычисления solve_cubic максимальна.\"\"\"\n",
    "    def real_to_complex(r): # Преобразует тройку вещественных чисел в корни.\n",
    "        return [r[0], r[1]+r[2]*1j, r[1]-r[2]*1j]\n",
    "    roots = np.random.randn(3) # Начальный набор нулей многочлена.\n",
    "    res = minimize(lambda r: -test_cubic_solve(real_to_complex(r)), roots, method='Nelder-Mead', options={\"disp\":True, \"fatol\":1e-16})\n",
    "    return real_to_complex(res.x)\n",
    "\n",
    "# Найдем наихудший многочлен, на котором ошибка больше всего.\n",
    "roots = find_worst_case()\n",
    "print(f\"Error for roots {roots}: {test_cubic_solve(roots)} \")"
   ]
  },
  {
   "cell_type": "code",
   "execution_count": 5,
   "metadata": {},
   "outputs": [
    {
     "name": "stdout",
     "output_type": "stream",
     "text": [
      "Cubic_solve error: 0.03429396544184734\n",
      "NumPy.roots error: 2.2253698594795346e-15\n"
     ]
    }
   ],
   "source": [
    "# Так как функция находит только локальный максимум, то потребуется несколько запусков, чтобы получить большую ошибку.\n",
    "# В какой-то момент мы получим сообщение о делении на ноль в функции cubic_solve, так как w=0.\n",
    "# В этот момент ошибка становится бесконечно большой.\n",
    "# Округляя корни, мы можем получить точку, в которой ошибка велика, но не бесконечна, например:\n",
    "roots = [-1.66827, (-0.715961-0.54981j), (-0.715961+0.54981j)]\n",
    "print(\"Cubic_solve error:\", test_cubic_solve(roots) )\n",
    "# Очевидно, что метод неустойчив, так как он неограниченно увеличивает ошибку в исходных данных.\n",
    "# Однако возможно, что задача нахождения корней плохо обусловлена, тогда никакой метод не даст ответ с хорошей точностью.\n",
    "# Из теории известно, что задача нахождения корней многочлена хорошо обусловлена, если корни многочлена отделены друг от друга, что выполняется в нашем случае.\n",
    "# Мы можем убедиться в этом косвенно, проверив, что NumPy позволяет найти эти корни с гораздо большей точностью.\n",
    "roots_numpy = np.roots([1]+roots2coefs(roots)) \n",
    "print(\"NumPy.roots error:\", relative_error(roots_numpy, roots))\n",
    "# Раз задача хорошо обусловлена, то значит наш конкретный способ счета неустойчив.\n",
    "# Таким образом явные аналитические формулы не всегда дают лучший способ счета."
   ]
  },
  {
   "cell_type": "markdown",
   "metadata": {},
   "source": [
    "## Задание.\n",
    "\n",
    "1. Каким образом NumPy вычисляет корни многочлена? Почему этот способ лучше? "
   ]
  },
  {
   "cell_type": "code",
   "execution_count": null,
   "metadata": {},
   "outputs": [],
   "source": []
  }
 ],
 "metadata": {
  "kernelspec": {
   "display_name": "Python 3",
   "language": "python",
   "name": "python3"
  },
  "language_info": {
   "codemirror_mode": {
    "name": "ipython",
    "version": 3
   },
   "file_extension": ".py",
   "mimetype": "text/x-python",
   "name": "python",
   "nbconvert_exporter": "python",
   "pygments_lexer": "ipython3",
   "version": "3.8.6"
  }
 },
 "nbformat": 4,
 "nbformat_minor": 4
}
